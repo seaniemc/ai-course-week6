{
  "cells": [
    {
      "metadata": {},
      "cell_type": "markdown",
      "source": "## Student Name: Sean McGrath\n## Student ID: 18208088\n\n### Problem Description: \nIf we have a 100 animals in the zoo all weighting from 1 to 6000kg. \n- Calcualte the mean of the data set. \n- Calculate the standard deviation of the data. \n- Calculate the standard error of the mean. \n\nIf we select a random sample of 20 form the orignal list. \n- Calculate the sample mean. \n- Repeat the experiment of the sample mean 20 times and calcuate the avaerage mean of the 20 sample runs. "
    },
    {
      "metadata": {
        "trusted": true
      },
      "cell_type": "code",
      "source": "import random\nimport math\nimport numpy as np\nimport matplotlib.pyplot as plt",
      "execution_count": 60,
      "outputs": []
    },
    {
      "metadata": {
        "trusted": true
      },
      "cell_type": "code",
      "source": "def generateRandom():\n    # create an array of random weights\n    animal_weights = []\n\n    animal_weights.append(random.sample(range(4000, 6001), 7))\n    animal_weights.append(random.sample(range(2500, 4000), 6))\n    animal_weights.append(random.sample(range(800, 2500), 15))\n    animal_weights.append(random.sample(range(100, 800), 20))\n    animal_weights.append(random.sample(range(25, 100), 30))\n    animal_weights.append(random.sample(range(1, 25), 22))\n    \n    #creates 1 single list\n    flat_list_animals = [item for sublist in animal_weights for item in sublist]\n    random.shuffle(flat_list_animals)\n    \n    return np.array(flat_list_animals)",
      "execution_count": 61,
      "outputs": []
    },
    {
      "metadata": {
        "trusted": true
      },
      "cell_type": "code",
      "source": "animals = generateRandom()\nprint(animals)",
      "execution_count": 62,
      "outputs": [
        {
          "output_type": "stream",
          "text": "[  86   98   30   56    2   31   24    7    1 1136  209    3   60  774\n   73   23  324 3576   43 3331 5572  652   16   88   25 1064   63 1151\n 1576    5 2957 1473   36   12   52  565 5624   48  314 2262   20  166\n   13   67 5752 5955 1863 1378   32  286  406   19   15   99  397 4960\n    8   50 1808 3507  191   14  183 1076   17  200   27   22  663 1593\n   10   53 1591  109   41    6  187   46   11 3467 4885   42  588 4613\n   68    9  419  906  745   45   64 2416    4   81 1612   26   93   87\n 3539  776]\n",
          "name": "stdout"
        }
      ]
    },
    {
      "metadata": {
        "trusted": true
      },
      "cell_type": "code",
      "source": "def do_stats(animal_list):\n    animal_mean = np.mean(animal_list)\n    print(\"Mean weight of animal list: \", animal_mean)\n    \n    stand_dev = np.std(animal_list, dtype=np.float64)\n    print(\"Standard deviation of animal list: \", stand_dev)\n    \n    stan_error_mean = stand_dev / (math.sqrt(len(animal_list)))\n    print(\"Standard error of the mean: \", stan_error_mean)\n    \n    prob_of_elephants = len(animal_list) / 7\n    print(\"Probability of randomly selecting an elephant or large animal over 4000kg: \", prob_of_elephants)\n    \n    print()\n    np_random_means = np.array(calculate_random_means(animal_list))\n    average_random_mean = np.average(np_random_means)\n    print(\"\\nAverage mean of 20 random samples\", average_random_mean)\n    \n    num_bins = 100\n    plt.hist(animal_list, num_bins, facecolor='blue')\n    plt.show()\n     \n#     CTEs = np.array([animal_mean, average_random_mean])\n#     fig, ax = plt.subplots()\n#     ax.plot(animal_list, CTEs, yerr=stand_dev, align='center', ecolor='black', capsize=10)\n#     plt.show()\n    #  label=key, , ax=ax\n    \ndef calculate_random_means(animal_list) :\n    random_means = []\n    for i in range(20):\n        index = np.random.choice(animal_list.shape[0], 20, replace=False) \n        #creates a random list of 20 \n        random_list = animal_list[index]\n       \n        random_mean = np.mean(random_list)\n        random_means.append(random_mean)\n        print(\"Mean of the random sample of the list\", random_mean)\n    return random_means",
      "execution_count": 63,
      "outputs": []
    },
    {
      "metadata": {
        "trusted": true
      },
      "cell_type": "code",
      "source": "do_stats(animals)",
      "execution_count": 64,
      "outputs": [
        {
          "output_type": "stream",
          "text": "Mean weight of animal list:  907.68\nStandard deviation of animal list:  1516.919397199469\nStandard error of the mean:  151.6919397199469\nProbability of randomly selecting an elephant or large animal over 4000kg:  14.285714285714286\n\nMean of the random sample of the list 776.65\nMean of the random sample of the list 1341.85\nMean of the random sample of the list 923.8\nMean of the random sample of the list 617.35\nMean of the random sample of the list 974.85\nMean of the random sample of the list 1473.5\nMean of the random sample of the list 1118.55\nMean of the random sample of the list 397.15\nMean of the random sample of the list 1747.5\nMean of the random sample of the list 1049.6\nMean of the random sample of the list 147.75\nMean of the random sample of the list 731.0\nMean of the random sample of the list 273.1\nMean of the random sample of the list 1122.9\nMean of the random sample of the list 1064.75\nMean of the random sample of the list 591.25\nMean of the random sample of the list 1316.45\nMean of the random sample of the list 900.65\nMean of the random sample of the list 781.75\nMean of the random sample of the list 780.95\n\nAverage mean of 20 random samples 906.5675000000001\n",
          "name": "stdout"
        },
        {
          "output_type": "display_data",
          "data": {
            "image/png": "[encoded data removed]",
            "text/plain": "<matplotlib.figure.Figure at 0x7f0a243e5a90>"
          },
          "metadata": {}
        }
      ]
    },
    {
      "metadata": {
        "trusted": true
      },
      "cell_type": "code",
      "source": "",
      "execution_count": null,
      "outputs": []
    }
  ],
  "metadata": {
    "kernelspec": {
      "name": "python36",
      "display_name": "Python 3.6",
      "language": "python"
    },
    "language_info": {
      "mimetype": "text/x-python",
      "nbconvert_exporter": "python",
      "name": "python",
      "pygments_lexer": "ipython3",
      "version": "3.6.6",
      "file_extension": ".py",
      "codemirror_mode": {
        "version": 3,
        "name": "ipython"
      }
    }
  },
  "nbformat": 4,
  "nbformat_minor": 1
}